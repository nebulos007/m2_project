{
 "cells": [
  {
   "cell_type": "code",
   "execution_count": 25,
   "metadata": {},
   "outputs": [],
   "source": [
    "import pandas as pd\n",
    "\n",
    "import matplotlib.pyplot as plt"
   ]
  },
  {
   "cell_type": "markdown",
   "metadata": {},
   "source": [
    "<h>"
   ]
  },
  {
   "cell_type": "markdown",
   "metadata": {},
   "source": [
    "<h1>1. Define the question:</h1>\n",
    "\n",
    "Can I use this dataset to find movies to watch by specifying a minimum rating, release year, etc?"
   ]
  },
  {
   "cell_type": "markdown",
   "metadata": {},
   "source": [
    "<h1>2. Read in the Data:</h1>"
   ]
  },
  {
   "cell_type": "code",
   "execution_count": 26,
   "metadata": {},
   "outputs": [],
   "source": [
    "movies = pd.read_csv(\"Movies.csv\")"
   ]
  },
  {
   "cell_type": "code",
   "execution_count": 27,
   "metadata": {},
   "outputs": [
    {
     "name": "stdout",
     "output_type": "stream",
     "text": [
      "        id                       title  \\\n",
      "0        1    The Shawshank Redemption   \n",
      "1        2               The Godfather   \n",
      "2        3       The Godfather Part II   \n",
      "3        4            Schindler's List   \n",
      "4        5                12 Angry Men   \n",
      "...    ...                         ...   \n",
      "9713  9714           Alone in the Dark   \n",
      "9714  9715              Disaster Movie   \n",
      "9715  9716           House of the Dead   \n",
      "9716  9717        Dragonball Evolution   \n",
      "9717  9718  Birdemic: Shock and Terror   \n",
      "\n",
      "                                                 genres language  user_score  \\\n",
      "0                                          Drama, Crime       en        8.70   \n",
      "1                                          Drama, Crime       en        8.70   \n",
      "2                                          Drama, Crime       en        8.60   \n",
      "3                                   Drama, History, War       en        8.60   \n",
      "4                                                 Drama       en        8.50   \n",
      "...                                                 ...      ...         ...   \n",
      "9713                            Action, Fantasy, Horror       en        3.30   \n",
      "9714                                             Comedy       en        3.20   \n",
      "9715                           Horror, Action, Thriller       en        3.10   \n",
      "9716  Action, Adventure, Fantasy, Science Fiction, T...       en        2.90   \n",
      "9717                          Romance, Horror, Thriller       en        2.20   \n",
      "\n",
      "      runtime_hour  runtime_min release_date  vote_count  \n",
      "0                2           22   1994-09-23       27070  \n",
      "1                2           55   1972-03-14       20563  \n",
      "2                3           22   1974-12-20       12403  \n",
      "3                3           15   1993-12-15       15810  \n",
      "4                1           37   1957-04-10        8611  \n",
      "...            ...          ...          ...         ...  \n",
      "9713             1           38   2005-01-28         602  \n",
      "9714             1           27   2008-08-29        1021  \n",
      "9715             1           30   2003-04-11         384  \n",
      "9716             1           25   2009-03-12        2028  \n",
      "9717             1           33   2010-02-27         334  \n",
      "\n",
      "[9718 rows x 9 columns]\n"
     ]
    }
   ],
   "source": [
    "print(movies)"
   ]
  },
  {
   "cell_type": "code",
   "execution_count": 28,
   "metadata": {},
   "outputs": [
    {
     "data": {
      "text/html": [
       "<div>\n",
       "<style scoped>\n",
       "    .dataframe tbody tr th:only-of-type {\n",
       "        vertical-align: middle;\n",
       "    }\n",
       "\n",
       "    .dataframe tbody tr th {\n",
       "        vertical-align: top;\n",
       "    }\n",
       "\n",
       "    .dataframe thead th {\n",
       "        text-align: right;\n",
       "    }\n",
       "</style>\n",
       "<table border=\"1\" class=\"dataframe\">\n",
       "  <thead>\n",
       "    <tr style=\"text-align: right;\">\n",
       "      <th></th>\n",
       "      <th>id</th>\n",
       "      <th>title</th>\n",
       "      <th>genres</th>\n",
       "      <th>language</th>\n",
       "      <th>user_score</th>\n",
       "      <th>runtime_hour</th>\n",
       "      <th>runtime_min</th>\n",
       "      <th>release_date</th>\n",
       "      <th>vote_count</th>\n",
       "    </tr>\n",
       "  </thead>\n",
       "  <tbody>\n",
       "    <tr>\n",
       "      <th>0</th>\n",
       "      <td>1</td>\n",
       "      <td>The Shawshank Redemption</td>\n",
       "      <td>Drama, Crime</td>\n",
       "      <td>en</td>\n",
       "      <td>8.70</td>\n",
       "      <td>2</td>\n",
       "      <td>22</td>\n",
       "      <td>1994-09-23</td>\n",
       "      <td>27070</td>\n",
       "    </tr>\n",
       "    <tr>\n",
       "      <th>1</th>\n",
       "      <td>2</td>\n",
       "      <td>The Godfather</td>\n",
       "      <td>Drama, Crime</td>\n",
       "      <td>en</td>\n",
       "      <td>8.70</td>\n",
       "      <td>2</td>\n",
       "      <td>55</td>\n",
       "      <td>1972-03-14</td>\n",
       "      <td>20563</td>\n",
       "    </tr>\n",
       "    <tr>\n",
       "      <th>2</th>\n",
       "      <td>3</td>\n",
       "      <td>The Godfather Part II</td>\n",
       "      <td>Drama, Crime</td>\n",
       "      <td>en</td>\n",
       "      <td>8.60</td>\n",
       "      <td>3</td>\n",
       "      <td>22</td>\n",
       "      <td>1974-12-20</td>\n",
       "      <td>12403</td>\n",
       "    </tr>\n",
       "    <tr>\n",
       "      <th>3</th>\n",
       "      <td>4</td>\n",
       "      <td>Schindler's List</td>\n",
       "      <td>Drama, History, War</td>\n",
       "      <td>en</td>\n",
       "      <td>8.60</td>\n",
       "      <td>3</td>\n",
       "      <td>15</td>\n",
       "      <td>1993-12-15</td>\n",
       "      <td>15810</td>\n",
       "    </tr>\n",
       "    <tr>\n",
       "      <th>4</th>\n",
       "      <td>5</td>\n",
       "      <td>12 Angry Men</td>\n",
       "      <td>Drama</td>\n",
       "      <td>en</td>\n",
       "      <td>8.50</td>\n",
       "      <td>1</td>\n",
       "      <td>37</td>\n",
       "      <td>1957-04-10</td>\n",
       "      <td>8611</td>\n",
       "    </tr>\n",
       "  </tbody>\n",
       "</table>\n",
       "</div>"
      ],
      "text/plain": [
       "   id                     title               genres language  user_score  \\\n",
       "0   1  The Shawshank Redemption         Drama, Crime       en        8.70   \n",
       "1   2             The Godfather         Drama, Crime       en        8.70   \n",
       "2   3     The Godfather Part II         Drama, Crime       en        8.60   \n",
       "3   4          Schindler's List  Drama, History, War       en        8.60   \n",
       "4   5              12 Angry Men                Drama       en        8.50   \n",
       "\n",
       "   runtime_hour  runtime_min release_date  vote_count  \n",
       "0             2           22   1994-09-23       27070  \n",
       "1             2           55   1972-03-14       20563  \n",
       "2             3           22   1974-12-20       12403  \n",
       "3             3           15   1993-12-15       15810  \n",
       "4             1           37   1957-04-10        8611  "
      ]
     },
     "execution_count": 28,
     "metadata": {},
     "output_type": "execute_result"
    }
   ],
   "source": [
    "movies.head()"
   ]
  },
  {
   "cell_type": "code",
   "execution_count": 29,
   "metadata": {},
   "outputs": [
    {
     "data": {
      "text/html": [
       "<div>\n",
       "<style scoped>\n",
       "    .dataframe tbody tr th:only-of-type {\n",
       "        vertical-align: middle;\n",
       "    }\n",
       "\n",
       "    .dataframe tbody tr th {\n",
       "        vertical-align: top;\n",
       "    }\n",
       "\n",
       "    .dataframe thead th {\n",
       "        text-align: right;\n",
       "    }\n",
       "</style>\n",
       "<table border=\"1\" class=\"dataframe\">\n",
       "  <thead>\n",
       "    <tr style=\"text-align: right;\">\n",
       "      <th></th>\n",
       "      <th>id</th>\n",
       "      <th>title</th>\n",
       "      <th>genres</th>\n",
       "      <th>language</th>\n",
       "      <th>user_score</th>\n",
       "      <th>runtime_hour</th>\n",
       "      <th>runtime_min</th>\n",
       "      <th>release_date</th>\n",
       "      <th>vote_count</th>\n",
       "    </tr>\n",
       "  </thead>\n",
       "  <tbody>\n",
       "    <tr>\n",
       "      <th>9713</th>\n",
       "      <td>9714</td>\n",
       "      <td>Alone in the Dark</td>\n",
       "      <td>Action, Fantasy, Horror</td>\n",
       "      <td>en</td>\n",
       "      <td>3.30</td>\n",
       "      <td>1</td>\n",
       "      <td>38</td>\n",
       "      <td>2005-01-28</td>\n",
       "      <td>602</td>\n",
       "    </tr>\n",
       "    <tr>\n",
       "      <th>9714</th>\n",
       "      <td>9715</td>\n",
       "      <td>Disaster Movie</td>\n",
       "      <td>Comedy</td>\n",
       "      <td>en</td>\n",
       "      <td>3.20</td>\n",
       "      <td>1</td>\n",
       "      <td>27</td>\n",
       "      <td>2008-08-29</td>\n",
       "      <td>1021</td>\n",
       "    </tr>\n",
       "    <tr>\n",
       "      <th>9715</th>\n",
       "      <td>9716</td>\n",
       "      <td>House of the Dead</td>\n",
       "      <td>Horror, Action, Thriller</td>\n",
       "      <td>en</td>\n",
       "      <td>3.10</td>\n",
       "      <td>1</td>\n",
       "      <td>30</td>\n",
       "      <td>2003-04-11</td>\n",
       "      <td>384</td>\n",
       "    </tr>\n",
       "    <tr>\n",
       "      <th>9716</th>\n",
       "      <td>9717</td>\n",
       "      <td>Dragonball Evolution</td>\n",
       "      <td>Action, Adventure, Fantasy, Science Fiction, T...</td>\n",
       "      <td>en</td>\n",
       "      <td>2.90</td>\n",
       "      <td>1</td>\n",
       "      <td>25</td>\n",
       "      <td>2009-03-12</td>\n",
       "      <td>2028</td>\n",
       "    </tr>\n",
       "    <tr>\n",
       "      <th>9717</th>\n",
       "      <td>9718</td>\n",
       "      <td>Birdemic: Shock and Terror</td>\n",
       "      <td>Romance, Horror, Thriller</td>\n",
       "      <td>en</td>\n",
       "      <td>2.20</td>\n",
       "      <td>1</td>\n",
       "      <td>33</td>\n",
       "      <td>2010-02-27</td>\n",
       "      <td>334</td>\n",
       "    </tr>\n",
       "  </tbody>\n",
       "</table>\n",
       "</div>"
      ],
      "text/plain": [
       "        id                       title  \\\n",
       "9713  9714           Alone in the Dark   \n",
       "9714  9715              Disaster Movie   \n",
       "9715  9716           House of the Dead   \n",
       "9716  9717        Dragonball Evolution   \n",
       "9717  9718  Birdemic: Shock and Terror   \n",
       "\n",
       "                                                 genres language  user_score  \\\n",
       "9713                            Action, Fantasy, Horror       en        3.30   \n",
       "9714                                             Comedy       en        3.20   \n",
       "9715                           Horror, Action, Thriller       en        3.10   \n",
       "9716  Action, Adventure, Fantasy, Science Fiction, T...       en        2.90   \n",
       "9717                          Romance, Horror, Thriller       en        2.20   \n",
       "\n",
       "      runtime_hour  runtime_min release_date  vote_count  \n",
       "9713             1           38   2005-01-28         602  \n",
       "9714             1           27   2008-08-29        1021  \n",
       "9715             1           30   2003-04-11         384  \n",
       "9716             1           25   2009-03-12        2028  \n",
       "9717             1           33   2010-02-27         334  "
      ]
     },
     "execution_count": 29,
     "metadata": {},
     "output_type": "execute_result"
    }
   ],
   "source": [
    "movies.tail()"
   ]
  },
  {
   "cell_type": "markdown",
   "metadata": {},
   "source": [
    "<h1>3. Data Cleaning:</h1>"
   ]
  },
  {
   "cell_type": "code",
   "execution_count": 30,
   "metadata": {},
   "outputs": [
    {
     "data": {
      "text/plain": [
       "(9718, 9)"
      ]
     },
     "execution_count": 30,
     "metadata": {},
     "output_type": "execute_result"
    }
   ],
   "source": [
    "movies.shape"
   ]
  },
  {
   "cell_type": "markdown",
   "metadata": {},
   "source": [
    "<h2>Address missing values:"
   ]
  },
  {
   "cell_type": "code",
   "execution_count": 31,
   "metadata": {},
   "outputs": [
    {
     "name": "stdout",
     "output_type": "stream",
     "text": [
      "<class 'pandas.core.frame.DataFrame'>\n",
      "RangeIndex: 9718 entries, 0 to 9717\n",
      "Data columns (total 9 columns):\n",
      " #   Column        Non-Null Count  Dtype  \n",
      "---  ------        --------------  -----  \n",
      " 0   id            9718 non-null   int64  \n",
      " 1   title         9718 non-null   object \n",
      " 2   genres        9718 non-null   object \n",
      " 3   language      9718 non-null   object \n",
      " 4   user_score    9718 non-null   float64\n",
      " 5   runtime_hour  9718 non-null   int64  \n",
      " 6   runtime_min   9718 non-null   int64  \n",
      " 7   release_date  9718 non-null   object \n",
      " 8   vote_count    9718 non-null   int64  \n",
      "dtypes: float64(1), int64(4), object(4)\n",
      "memory usage: 683.4+ KB\n"
     ]
    }
   ],
   "source": [
    "movies.info()"
   ]
  },
  {
   "cell_type": "markdown",
   "metadata": {},
   "source": [
    "<h3>Are there any null values? No."
   ]
  },
  {
   "cell_type": "code",
   "execution_count": 32,
   "metadata": {},
   "outputs": [
    {
     "name": "stdout",
     "output_type": "stream",
     "text": [
      "False\n"
     ]
    }
   ],
   "source": [
    "print(movies.isnull().any().any())"
   ]
  },
  {
   "cell_type": "markdown",
   "metadata": {},
   "source": [
    "<h4>Look at the columns and remove any that are unnecessary, change to title case, and replace underscores with spaces :"
   ]
  },
  {
   "cell_type": "code",
   "execution_count": 33,
   "metadata": {},
   "outputs": [
    {
     "data": {
      "text/plain": [
       "Index(['id', 'title', 'genres', 'language', 'user_score', 'runtime_hour',\n",
       "       'runtime_min', 'release_date', 'vote_count'],\n",
       "      dtype='object')"
      ]
     },
     "execution_count": 33,
     "metadata": {},
     "output_type": "execute_result"
    }
   ],
   "source": [
    "movies.columns"
   ]
  },
  {
   "cell_type": "code",
   "execution_count": 34,
   "metadata": {},
   "outputs": [],
   "source": [
    "# Create list of columns to drop:\n",
    "cols_to_drop = ['id', 'vote_count', 'runtime_hour', 'runtime_min']"
   ]
  },
  {
   "cell_type": "code",
   "execution_count": 35,
   "metadata": {},
   "outputs": [
    {
     "data": {
      "text/html": [
       "<div>\n",
       "<style scoped>\n",
       "    .dataframe tbody tr th:only-of-type {\n",
       "        vertical-align: middle;\n",
       "    }\n",
       "\n",
       "    .dataframe tbody tr th {\n",
       "        vertical-align: top;\n",
       "    }\n",
       "\n",
       "    .dataframe thead th {\n",
       "        text-align: right;\n",
       "    }\n",
       "</style>\n",
       "<table border=\"1\" class=\"dataframe\">\n",
       "  <thead>\n",
       "    <tr style=\"text-align: right;\">\n",
       "      <th></th>\n",
       "      <th>title</th>\n",
       "      <th>genres</th>\n",
       "      <th>language</th>\n",
       "      <th>user_score</th>\n",
       "      <th>release_date</th>\n",
       "    </tr>\n",
       "  </thead>\n",
       "  <tbody>\n",
       "    <tr>\n",
       "      <th>0</th>\n",
       "      <td>The Shawshank Redemption</td>\n",
       "      <td>Drama, Crime</td>\n",
       "      <td>en</td>\n",
       "      <td>8.70</td>\n",
       "      <td>1994-09-23</td>\n",
       "    </tr>\n",
       "    <tr>\n",
       "      <th>1</th>\n",
       "      <td>The Godfather</td>\n",
       "      <td>Drama, Crime</td>\n",
       "      <td>en</td>\n",
       "      <td>8.70</td>\n",
       "      <td>1972-03-14</td>\n",
       "    </tr>\n",
       "    <tr>\n",
       "      <th>2</th>\n",
       "      <td>The Godfather Part II</td>\n",
       "      <td>Drama, Crime</td>\n",
       "      <td>en</td>\n",
       "      <td>8.60</td>\n",
       "      <td>1974-12-20</td>\n",
       "    </tr>\n",
       "    <tr>\n",
       "      <th>3</th>\n",
       "      <td>Schindler's List</td>\n",
       "      <td>Drama, History, War</td>\n",
       "      <td>en</td>\n",
       "      <td>8.60</td>\n",
       "      <td>1993-12-15</td>\n",
       "    </tr>\n",
       "    <tr>\n",
       "      <th>4</th>\n",
       "      <td>12 Angry Men</td>\n",
       "      <td>Drama</td>\n",
       "      <td>en</td>\n",
       "      <td>8.50</td>\n",
       "      <td>1957-04-10</td>\n",
       "    </tr>\n",
       "    <tr>\n",
       "      <th>5</th>\n",
       "      <td>Spirited Away</td>\n",
       "      <td>Animation, Family, Fantasy</td>\n",
       "      <td>ja</td>\n",
       "      <td>8.50</td>\n",
       "      <td>2001-07-20</td>\n",
       "    </tr>\n",
       "    <tr>\n",
       "      <th>6</th>\n",
       "      <td>The Wild Robot</td>\n",
       "      <td>Animation, Science Fiction, Family</td>\n",
       "      <td>en</td>\n",
       "      <td>8.50</td>\n",
       "      <td>2024-09-12</td>\n",
       "    </tr>\n",
       "    <tr>\n",
       "      <th>7</th>\n",
       "      <td>Dilwale Dulhania Le Jayenge</td>\n",
       "      <td>Comedy, Drama, Romance</td>\n",
       "      <td>hi</td>\n",
       "      <td>8.50</td>\n",
       "      <td>1995-10-20</td>\n",
       "    </tr>\n",
       "    <tr>\n",
       "      <th>8</th>\n",
       "      <td>The Dark Knight</td>\n",
       "      <td>Drama, Action, Crime, Thriller</td>\n",
       "      <td>en</td>\n",
       "      <td>8.50</td>\n",
       "      <td>2008-07-16</td>\n",
       "    </tr>\n",
       "    <tr>\n",
       "      <th>9</th>\n",
       "      <td>The Green Mile</td>\n",
       "      <td>Fantasy, Drama, Crime</td>\n",
       "      <td>en</td>\n",
       "      <td>8.50</td>\n",
       "      <td>1999-12-10</td>\n",
       "    </tr>\n",
       "  </tbody>\n",
       "</table>\n",
       "</div>"
      ],
      "text/plain": [
       "                         title                              genres language  \\\n",
       "0     The Shawshank Redemption                        Drama, Crime       en   \n",
       "1                The Godfather                        Drama, Crime       en   \n",
       "2        The Godfather Part II                        Drama, Crime       en   \n",
       "3             Schindler's List                 Drama, History, War       en   \n",
       "4                 12 Angry Men                               Drama       en   \n",
       "5                Spirited Away          Animation, Family, Fantasy       ja   \n",
       "6               The Wild Robot  Animation, Science Fiction, Family       en   \n",
       "7  Dilwale Dulhania Le Jayenge              Comedy, Drama, Romance       hi   \n",
       "8              The Dark Knight      Drama, Action, Crime, Thriller       en   \n",
       "9               The Green Mile               Fantasy, Drama, Crime       en   \n",
       "\n",
       "   user_score release_date  \n",
       "0        8.70   1994-09-23  \n",
       "1        8.70   1972-03-14  \n",
       "2        8.60   1974-12-20  \n",
       "3        8.60   1993-12-15  \n",
       "4        8.50   1957-04-10  \n",
       "5        8.50   2001-07-20  \n",
       "6        8.50   2024-09-12  \n",
       "7        8.50   1995-10-20  \n",
       "8        8.50   2008-07-16  \n",
       "9        8.50   1999-12-10  "
      ]
     },
     "execution_count": 35,
     "metadata": {},
     "output_type": "execute_result"
    }
   ],
   "source": [
    "# Use the above list to drop the columns:\n",
    "movies = movies.drop(columns= cols_to_drop)\n",
    "# Look at the dataframe without the excess columns:\n",
    "movies.head(10)"
   ]
  },
  {
   "cell_type": "code",
   "execution_count": 36,
   "metadata": {},
   "outputs": [
    {
     "data": {
      "text/html": [
       "<div>\n",
       "<style scoped>\n",
       "    .dataframe tbody tr th:only-of-type {\n",
       "        vertical-align: middle;\n",
       "    }\n",
       "\n",
       "    .dataframe tbody tr th {\n",
       "        vertical-align: top;\n",
       "    }\n",
       "\n",
       "    .dataframe thead th {\n",
       "        text-align: right;\n",
       "    }\n",
       "</style>\n",
       "<table border=\"1\" class=\"dataframe\">\n",
       "  <thead>\n",
       "    <tr style=\"text-align: right;\">\n",
       "      <th></th>\n",
       "      <th>Title</th>\n",
       "      <th>Genres</th>\n",
       "      <th>Language</th>\n",
       "      <th>User_Score</th>\n",
       "      <th>Release_Date</th>\n",
       "    </tr>\n",
       "  </thead>\n",
       "  <tbody>\n",
       "    <tr>\n",
       "      <th>0</th>\n",
       "      <td>The Shawshank Redemption</td>\n",
       "      <td>Drama, Crime</td>\n",
       "      <td>en</td>\n",
       "      <td>8.70</td>\n",
       "      <td>1994-09-23</td>\n",
       "    </tr>\n",
       "    <tr>\n",
       "      <th>1</th>\n",
       "      <td>The Godfather</td>\n",
       "      <td>Drama, Crime</td>\n",
       "      <td>en</td>\n",
       "      <td>8.70</td>\n",
       "      <td>1972-03-14</td>\n",
       "    </tr>\n",
       "    <tr>\n",
       "      <th>2</th>\n",
       "      <td>The Godfather Part II</td>\n",
       "      <td>Drama, Crime</td>\n",
       "      <td>en</td>\n",
       "      <td>8.60</td>\n",
       "      <td>1974-12-20</td>\n",
       "    </tr>\n",
       "    <tr>\n",
       "      <th>3</th>\n",
       "      <td>Schindler's List</td>\n",
       "      <td>Drama, History, War</td>\n",
       "      <td>en</td>\n",
       "      <td>8.60</td>\n",
       "      <td>1993-12-15</td>\n",
       "    </tr>\n",
       "    <tr>\n",
       "      <th>4</th>\n",
       "      <td>12 Angry Men</td>\n",
       "      <td>Drama</td>\n",
       "      <td>en</td>\n",
       "      <td>8.50</td>\n",
       "      <td>1957-04-10</td>\n",
       "    </tr>\n",
       "  </tbody>\n",
       "</table>\n",
       "</div>"
      ],
      "text/plain": [
       "                      Title               Genres Language  User_Score  \\\n",
       "0  The Shawshank Redemption         Drama, Crime       en        8.70   \n",
       "1             The Godfather         Drama, Crime       en        8.70   \n",
       "2     The Godfather Part II         Drama, Crime       en        8.60   \n",
       "3          Schindler's List  Drama, History, War       en        8.60   \n",
       "4              12 Angry Men                Drama       en        8.50   \n",
       "\n",
       "  Release_Date  \n",
       "0   1994-09-23  \n",
       "1   1972-03-14  \n",
       "2   1974-12-20  \n",
       "3   1993-12-15  \n",
       "4   1957-04-10  "
      ]
     },
     "execution_count": 36,
     "metadata": {},
     "output_type": "execute_result"
    }
   ],
   "source": [
    "# Change columns to title case\n",
    "movies.columns = movies.columns.str.title()\n",
    "movies.head()"
   ]
  },
  {
   "cell_type": "code",
   "execution_count": 37,
   "metadata": {},
   "outputs": [
    {
     "data": {
      "text/html": [
       "<div>\n",
       "<style scoped>\n",
       "    .dataframe tbody tr th:only-of-type {\n",
       "        vertical-align: middle;\n",
       "    }\n",
       "\n",
       "    .dataframe tbody tr th {\n",
       "        vertical-align: top;\n",
       "    }\n",
       "\n",
       "    .dataframe thead th {\n",
       "        text-align: right;\n",
       "    }\n",
       "</style>\n",
       "<table border=\"1\" class=\"dataframe\">\n",
       "  <thead>\n",
       "    <tr style=\"text-align: right;\">\n",
       "      <th></th>\n",
       "      <th>Title</th>\n",
       "      <th>Genres</th>\n",
       "      <th>Language</th>\n",
       "      <th>User Score</th>\n",
       "      <th>Release Date</th>\n",
       "    </tr>\n",
       "  </thead>\n",
       "  <tbody>\n",
       "    <tr>\n",
       "      <th>0</th>\n",
       "      <td>The Shawshank Redemption</td>\n",
       "      <td>Drama, Crime</td>\n",
       "      <td>en</td>\n",
       "      <td>8.70</td>\n",
       "      <td>1994-09-23</td>\n",
       "    </tr>\n",
       "    <tr>\n",
       "      <th>1</th>\n",
       "      <td>The Godfather</td>\n",
       "      <td>Drama, Crime</td>\n",
       "      <td>en</td>\n",
       "      <td>8.70</td>\n",
       "      <td>1972-03-14</td>\n",
       "    </tr>\n",
       "    <tr>\n",
       "      <th>2</th>\n",
       "      <td>The Godfather Part II</td>\n",
       "      <td>Drama, Crime</td>\n",
       "      <td>en</td>\n",
       "      <td>8.60</td>\n",
       "      <td>1974-12-20</td>\n",
       "    </tr>\n",
       "    <tr>\n",
       "      <th>3</th>\n",
       "      <td>Schindler's List</td>\n",
       "      <td>Drama, History, War</td>\n",
       "      <td>en</td>\n",
       "      <td>8.60</td>\n",
       "      <td>1993-12-15</td>\n",
       "    </tr>\n",
       "    <tr>\n",
       "      <th>4</th>\n",
       "      <td>12 Angry Men</td>\n",
       "      <td>Drama</td>\n",
       "      <td>en</td>\n",
       "      <td>8.50</td>\n",
       "      <td>1957-04-10</td>\n",
       "    </tr>\n",
       "  </tbody>\n",
       "</table>\n",
       "</div>"
      ],
      "text/plain": [
       "                      Title               Genres Language  User Score  \\\n",
       "0  The Shawshank Redemption         Drama, Crime       en        8.70   \n",
       "1             The Godfather         Drama, Crime       en        8.70   \n",
       "2     The Godfather Part II         Drama, Crime       en        8.60   \n",
       "3          Schindler's List  Drama, History, War       en        8.60   \n",
       "4              12 Angry Men                Drama       en        8.50   \n",
       "\n",
       "  Release Date  \n",
       "0   1994-09-23  \n",
       "1   1972-03-14  \n",
       "2   1974-12-20  \n",
       "3   1993-12-15  \n",
       "4   1957-04-10  "
      ]
     },
     "execution_count": 37,
     "metadata": {},
     "output_type": "execute_result"
    }
   ],
   "source": [
    "#Remove underscores\n",
    "movies.columns = movies.columns.str.strip().str.replace('_', ' ')\n",
    "movies.head()"
   ]
  },
  {
   "cell_type": "markdown",
   "metadata": {},
   "source": [
    "<h3>Convert columns to proper data types:"
   ]
  },
  {
   "cell_type": "code",
   "execution_count": 38,
   "metadata": {},
   "outputs": [
    {
     "data": {
      "text/plain": [
       "Title            object\n",
       "Genres           object\n",
       "Language         object\n",
       "User Score      float64\n",
       "Release Date     object\n",
       "dtype: object"
      ]
     },
     "execution_count": 38,
     "metadata": {},
     "output_type": "execute_result"
    }
   ],
   "source": [
    "movies.dtypes"
   ]
  },
  {
   "cell_type": "code",
   "execution_count": 39,
   "metadata": {},
   "outputs": [
    {
     "name": "stdout",
     "output_type": "stream",
     "text": [
      "<class 'pandas.core.frame.DataFrame'>\n",
      "RangeIndex: 9718 entries, 0 to 9717\n",
      "Data columns (total 5 columns):\n",
      " #   Column        Non-Null Count  Dtype         \n",
      "---  ------        --------------  -----         \n",
      " 0   Title         9718 non-null   object        \n",
      " 1   Genres        9718 non-null   object        \n",
      " 2   Language      9718 non-null   object        \n",
      " 3   User Score    9718 non-null   float64       \n",
      " 4   Release Date  9718 non-null   datetime64[ns]\n",
      "dtypes: datetime64[ns](1), float64(1), object(3)\n",
      "memory usage: 379.7+ KB\n"
     ]
    },
    {
     "data": {
      "text/html": [
       "<div>\n",
       "<style scoped>\n",
       "    .dataframe tbody tr th:only-of-type {\n",
       "        vertical-align: middle;\n",
       "    }\n",
       "\n",
       "    .dataframe tbody tr th {\n",
       "        vertical-align: top;\n",
       "    }\n",
       "\n",
       "    .dataframe thead th {\n",
       "        text-align: right;\n",
       "    }\n",
       "</style>\n",
       "<table border=\"1\" class=\"dataframe\">\n",
       "  <thead>\n",
       "    <tr style=\"text-align: right;\">\n",
       "      <th></th>\n",
       "      <th>Title</th>\n",
       "      <th>Genres</th>\n",
       "      <th>Language</th>\n",
       "      <th>User Score</th>\n",
       "      <th>Release Date</th>\n",
       "    </tr>\n",
       "  </thead>\n",
       "  <tbody>\n",
       "    <tr>\n",
       "      <th>0</th>\n",
       "      <td>The Shawshank Redemption</td>\n",
       "      <td>Drama, Crime</td>\n",
       "      <td>en</td>\n",
       "      <td>8.70</td>\n",
       "      <td>1994-09-23</td>\n",
       "    </tr>\n",
       "    <tr>\n",
       "      <th>1</th>\n",
       "      <td>The Godfather</td>\n",
       "      <td>Drama, Crime</td>\n",
       "      <td>en</td>\n",
       "      <td>8.70</td>\n",
       "      <td>1972-03-14</td>\n",
       "    </tr>\n",
       "    <tr>\n",
       "      <th>2</th>\n",
       "      <td>The Godfather Part II</td>\n",
       "      <td>Drama, Crime</td>\n",
       "      <td>en</td>\n",
       "      <td>8.60</td>\n",
       "      <td>1974-12-20</td>\n",
       "    </tr>\n",
       "    <tr>\n",
       "      <th>3</th>\n",
       "      <td>Schindler's List</td>\n",
       "      <td>Drama, History, War</td>\n",
       "      <td>en</td>\n",
       "      <td>8.60</td>\n",
       "      <td>1993-12-15</td>\n",
       "    </tr>\n",
       "    <tr>\n",
       "      <th>4</th>\n",
       "      <td>12 Angry Men</td>\n",
       "      <td>Drama</td>\n",
       "      <td>en</td>\n",
       "      <td>8.50</td>\n",
       "      <td>1957-04-10</td>\n",
       "    </tr>\n",
       "  </tbody>\n",
       "</table>\n",
       "</div>"
      ],
      "text/plain": [
       "                      Title               Genres Language  User Score  \\\n",
       "0  The Shawshank Redemption         Drama, Crime       en        8.70   \n",
       "1             The Godfather         Drama, Crime       en        8.70   \n",
       "2     The Godfather Part II         Drama, Crime       en        8.60   \n",
       "3          Schindler's List  Drama, History, War       en        8.60   \n",
       "4              12 Angry Men                Drama       en        8.50   \n",
       "\n",
       "  Release Date  \n",
       "0   1994-09-23  \n",
       "1   1972-03-14  \n",
       "2   1974-12-20  \n",
       "3   1993-12-15  \n",
       "4   1957-04-10  "
      ]
     },
     "execution_count": 39,
     "metadata": {},
     "output_type": "execute_result"
    }
   ],
   "source": [
    "#convert Release Date column to datetime\n",
    "movies['Release Date'] = pd.to_datetime(movies['Release Date'], format='%Y-%m-%d')\n",
    "\n",
    "movies.info()\n",
    "movies.head()"
   ]
  },
  {
   "cell_type": "markdown",
   "metadata": {},
   "source": [
    "<h3>Engineer a new feature:"
   ]
  },
  {
   "cell_type": "code",
   "execution_count": 40,
   "metadata": {},
   "outputs": [
    {
     "data": {
      "text/html": [
       "<div>\n",
       "<style scoped>\n",
       "    .dataframe tbody tr th:only-of-type {\n",
       "        vertical-align: middle;\n",
       "    }\n",
       "\n",
       "    .dataframe tbody tr th {\n",
       "        vertical-align: top;\n",
       "    }\n",
       "\n",
       "    .dataframe thead th {\n",
       "        text-align: right;\n",
       "    }\n",
       "</style>\n",
       "<table border=\"1\" class=\"dataframe\">\n",
       "  <thead>\n",
       "    <tr style=\"text-align: right;\">\n",
       "      <th></th>\n",
       "      <th>Title</th>\n",
       "      <th>Genres</th>\n",
       "      <th>Language</th>\n",
       "      <th>User Score</th>\n",
       "      <th>Release Date</th>\n",
       "      <th>Release Year</th>\n",
       "    </tr>\n",
       "  </thead>\n",
       "  <tbody>\n",
       "    <tr>\n",
       "      <th>0</th>\n",
       "      <td>The Shawshank Redemption</td>\n",
       "      <td>Drama, Crime</td>\n",
       "      <td>en</td>\n",
       "      <td>8.70</td>\n",
       "      <td>1994-09-23</td>\n",
       "      <td>1994</td>\n",
       "    </tr>\n",
       "    <tr>\n",
       "      <th>1</th>\n",
       "      <td>The Godfather</td>\n",
       "      <td>Drama, Crime</td>\n",
       "      <td>en</td>\n",
       "      <td>8.70</td>\n",
       "      <td>1972-03-14</td>\n",
       "      <td>1972</td>\n",
       "    </tr>\n",
       "    <tr>\n",
       "      <th>2</th>\n",
       "      <td>The Godfather Part II</td>\n",
       "      <td>Drama, Crime</td>\n",
       "      <td>en</td>\n",
       "      <td>8.60</td>\n",
       "      <td>1974-12-20</td>\n",
       "      <td>1974</td>\n",
       "    </tr>\n",
       "    <tr>\n",
       "      <th>3</th>\n",
       "      <td>Schindler's List</td>\n",
       "      <td>Drama, History, War</td>\n",
       "      <td>en</td>\n",
       "      <td>8.60</td>\n",
       "      <td>1993-12-15</td>\n",
       "      <td>1993</td>\n",
       "    </tr>\n",
       "    <tr>\n",
       "      <th>4</th>\n",
       "      <td>12 Angry Men</td>\n",
       "      <td>Drama</td>\n",
       "      <td>en</td>\n",
       "      <td>8.50</td>\n",
       "      <td>1957-04-10</td>\n",
       "      <td>1957</td>\n",
       "    </tr>\n",
       "  </tbody>\n",
       "</table>\n",
       "</div>"
      ],
      "text/plain": [
       "                      Title               Genres Language  User Score  \\\n",
       "0  The Shawshank Redemption         Drama, Crime       en        8.70   \n",
       "1             The Godfather         Drama, Crime       en        8.70   \n",
       "2     The Godfather Part II         Drama, Crime       en        8.60   \n",
       "3          Schindler's List  Drama, History, War       en        8.60   \n",
       "4              12 Angry Men                Drama       en        8.50   \n",
       "\n",
       "  Release Date  Release Year  \n",
       "0   1994-09-23          1994  \n",
       "1   1972-03-14          1972  \n",
       "2   1974-12-20          1974  \n",
       "3   1993-12-15          1993  \n",
       "4   1957-04-10          1957  "
      ]
     },
     "execution_count": 40,
     "metadata": {},
     "output_type": "execute_result"
    }
   ],
   "source": [
    "#Create a Release Year column from the Release date column\n",
    "\n",
    "movies['Release Year'] = movies['Release Date'].dt.year\n",
    "\n",
    "movies.head()\n"
   ]
  },
  {
   "cell_type": "code",
   "execution_count": 41,
   "metadata": {},
   "outputs": [
    {
     "name": "stdout",
     "output_type": "stream",
     "text": [
      "Here are the movies from 2000 or later with a user score of 8.5 or higher:\n",
      "\n"
     ]
    },
    {
     "data": {
      "text/html": [
       "<div>\n",
       "<style scoped>\n",
       "    .dataframe tbody tr th:only-of-type {\n",
       "        vertical-align: middle;\n",
       "    }\n",
       "\n",
       "    .dataframe tbody tr th {\n",
       "        vertical-align: top;\n",
       "    }\n",
       "\n",
       "    .dataframe thead th {\n",
       "        text-align: right;\n",
       "    }\n",
       "</style>\n",
       "<table border=\"1\" class=\"dataframe\">\n",
       "  <thead>\n",
       "    <tr style=\"text-align: right;\">\n",
       "      <th></th>\n",
       "      <th>Title</th>\n",
       "      <th>Genres</th>\n",
       "      <th>Language</th>\n",
       "      <th>User Score</th>\n",
       "      <th>Release Date</th>\n",
       "      <th>Release Year</th>\n",
       "    </tr>\n",
       "  </thead>\n",
       "  <tbody>\n",
       "    <tr>\n",
       "      <th>5</th>\n",
       "      <td>Spirited Away</td>\n",
       "      <td>Animation, Family, Fantasy</td>\n",
       "      <td>ja</td>\n",
       "      <td>8.50</td>\n",
       "      <td>2001-07-20</td>\n",
       "      <td>2001</td>\n",
       "    </tr>\n",
       "    <tr>\n",
       "      <th>6</th>\n",
       "      <td>The Wild Robot</td>\n",
       "      <td>Animation, Science Fiction, Family</td>\n",
       "      <td>en</td>\n",
       "      <td>8.50</td>\n",
       "      <td>2024-09-12</td>\n",
       "      <td>2024</td>\n",
       "    </tr>\n",
       "    <tr>\n",
       "      <th>8</th>\n",
       "      <td>The Dark Knight</td>\n",
       "      <td>Drama, Action, Crime, Thriller</td>\n",
       "      <td>en</td>\n",
       "      <td>8.50</td>\n",
       "      <td>2008-07-16</td>\n",
       "      <td>2008</td>\n",
       "    </tr>\n",
       "    <tr>\n",
       "      <th>10</th>\n",
       "      <td>Parasite</td>\n",
       "      <td>Comedy, Thriller, Drama</td>\n",
       "      <td>ko</td>\n",
       "      <td>8.50</td>\n",
       "      <td>2019-05-30</td>\n",
       "      <td>2019</td>\n",
       "    </tr>\n",
       "    <tr>\n",
       "      <th>12</th>\n",
       "      <td>Your Name.</td>\n",
       "      <td>Animation, Romance, Drama</td>\n",
       "      <td>ja</td>\n",
       "      <td>8.50</td>\n",
       "      <td>2016-08-26</td>\n",
       "      <td>2016</td>\n",
       "    </tr>\n",
       "    <tr>\n",
       "      <th>13</th>\n",
       "      <td>The Lord of the Rings: The Return of the King</td>\n",
       "      <td>Adventure, Fantasy, Action</td>\n",
       "      <td>en</td>\n",
       "      <td>8.50</td>\n",
       "      <td>2003-12-17</td>\n",
       "      <td>2003</td>\n",
       "    </tr>\n",
       "  </tbody>\n",
       "</table>\n",
       "</div>"
      ],
      "text/plain": [
       "                                            Title  \\\n",
       "5                                   Spirited Away   \n",
       "6                                  The Wild Robot   \n",
       "8                                 The Dark Knight   \n",
       "10                                       Parasite   \n",
       "12                                     Your Name.   \n",
       "13  The Lord of the Rings: The Return of the King   \n",
       "\n",
       "                                Genres Language  User Score Release Date  \\\n",
       "5           Animation, Family, Fantasy       ja        8.50   2001-07-20   \n",
       "6   Animation, Science Fiction, Family       en        8.50   2024-09-12   \n",
       "8       Drama, Action, Crime, Thriller       en        8.50   2008-07-16   \n",
       "10             Comedy, Thriller, Drama       ko        8.50   2019-05-30   \n",
       "12           Animation, Romance, Drama       ja        8.50   2016-08-26   \n",
       "13          Adventure, Fantasy, Action       en        8.50   2003-12-17   \n",
       "\n",
       "    Release Year  \n",
       "5           2001  \n",
       "6           2024  \n",
       "8           2008  \n",
       "10          2019  \n",
       "12          2016  \n",
       "13          2003  "
      ]
     },
     "execution_count": 41,
     "metadata": {},
     "output_type": "execute_result"
    }
   ],
   "source": [
    "# Filter for movies made after a certain year and above a certain score\n",
    "\n",
    "year_filter = 2000\n",
    "score_filter = 8.5\n",
    "filtered_movies = movies[(movies['Release Year'] >= year_filter) & (movies['User Score'] >= score_filter)]\n",
    "\n",
    "filtered_movies\n",
    "\n",
    "# Print a string displaying the requested information \n",
    "print(f'Here are the movies from', year_filter, 'or later with a user score of', score_filter, 'or higher:\\n')\n",
    "filtered_movies\n",
    "\n"
   ]
  },
  {
   "cell_type": "markdown",
   "metadata": {},
   "source": [
    "<h1>4. Exploratory Data Analysis"
   ]
  },
  {
   "cell_type": "code",
   "execution_count": 42,
   "metadata": {},
   "outputs": [
    {
     "data": {
      "text/plain": [
       "Language\n",
       "en    7695\n",
       "fr     630\n",
       "it     349\n",
       "ja     271\n",
       "es     179\n",
       "de      90\n",
       "ko      84\n",
       "zh      63\n",
       "cn      52\n",
       "ru      44\n",
       "sv      36\n",
       "da      31\n",
       "pt      30\n",
       "hi      28\n",
       "no      22\n",
       "pl      18\n",
       "tr      11\n",
       "th      11\n",
       "fa      10\n",
       "nl       9\n",
       "fi       8\n",
       "hu       6\n",
       "id       5\n",
       "sr       4\n",
       "te       4\n",
       "uk       3\n",
       "el       3\n",
       "cs       3\n",
       "ar       2\n",
       "is       2\n",
       "sh       1\n",
       "bn       1\n",
       "et       1\n",
       "bs       1\n",
       "gl       1\n",
       "ga       1\n",
       "ro       1\n",
       "ml       1\n",
       "la       1\n",
       "tn       1\n",
       "he       1\n",
       "km       1\n",
       "eu       1\n",
       "su       1\n",
       "lt       1\n",
       "Name: count, dtype: int64"
      ]
     },
     "execution_count": 42,
     "metadata": {},
     "output_type": "execute_result"
    }
   ],
   "source": [
    "movies['Language'].value_counts()"
   ]
  },
  {
   "cell_type": "markdown",
   "metadata": {},
   "source": [
    "<h3>Provide descriptive stats:"
   ]
  },
  {
   "cell_type": "code",
   "execution_count": 43,
   "metadata": {},
   "outputs": [
    {
     "data": {
      "text/html": [
       "<div>\n",
       "<style scoped>\n",
       "    .dataframe tbody tr th:only-of-type {\n",
       "        vertical-align: middle;\n",
       "    }\n",
       "\n",
       "    .dataframe tbody tr th {\n",
       "        vertical-align: top;\n",
       "    }\n",
       "\n",
       "    .dataframe thead th {\n",
       "        text-align: right;\n",
       "    }\n",
       "</style>\n",
       "<table border=\"1\" class=\"dataframe\">\n",
       "  <thead>\n",
       "    <tr style=\"text-align: right;\">\n",
       "      <th></th>\n",
       "      <th>User Score</th>\n",
       "      <th>Release Date</th>\n",
       "      <th>Release Year</th>\n",
       "    </tr>\n",
       "  </thead>\n",
       "  <tbody>\n",
       "    <tr>\n",
       "      <th>count</th>\n",
       "      <td>9718.00</td>\n",
       "      <td>9718</td>\n",
       "      <td>9718.00</td>\n",
       "    </tr>\n",
       "    <tr>\n",
       "      <th>mean</th>\n",
       "      <td>6.63</td>\n",
       "      <td>2004-10-31 06:42:09.409343488</td>\n",
       "      <td>2004.29</td>\n",
       "    </tr>\n",
       "    <tr>\n",
       "      <th>min</th>\n",
       "      <td>2.20</td>\n",
       "      <td>1902-06-21 00:00:00</td>\n",
       "      <td>1902.00</td>\n",
       "    </tr>\n",
       "    <tr>\n",
       "      <th>25%</th>\n",
       "      <td>6.10</td>\n",
       "      <td>1997-12-19 00:00:00</td>\n",
       "      <td>1997.00</td>\n",
       "    </tr>\n",
       "    <tr>\n",
       "      <th>50%</th>\n",
       "      <td>6.70</td>\n",
       "      <td>2009-10-01 00:00:00</td>\n",
       "      <td>2009.00</td>\n",
       "    </tr>\n",
       "    <tr>\n",
       "      <th>75%</th>\n",
       "      <td>7.20</td>\n",
       "      <td>2016-12-21 00:00:00</td>\n",
       "      <td>2016.00</td>\n",
       "    </tr>\n",
       "    <tr>\n",
       "      <th>max</th>\n",
       "      <td>8.70</td>\n",
       "      <td>2024-10-24 00:00:00</td>\n",
       "      <td>2024.00</td>\n",
       "    </tr>\n",
       "    <tr>\n",
       "      <th>std</th>\n",
       "      <td>0.78</td>\n",
       "      <td>NaN</td>\n",
       "      <td>17.20</td>\n",
       "    </tr>\n",
       "  </tbody>\n",
       "</table>\n",
       "</div>"
      ],
      "text/plain": [
       "       User Score                   Release Date  Release Year\n",
       "count     9718.00                           9718       9718.00\n",
       "mean         6.63  2004-10-31 06:42:09.409343488       2004.29\n",
       "min          2.20            1902-06-21 00:00:00       1902.00\n",
       "25%          6.10            1997-12-19 00:00:00       1997.00\n",
       "50%          6.70            2009-10-01 00:00:00       2009.00\n",
       "75%          7.20            2016-12-21 00:00:00       2016.00\n",
       "max          8.70            2024-10-24 00:00:00       2024.00\n",
       "std          0.78                            NaN         17.20"
      ]
     },
     "execution_count": 43,
     "metadata": {},
     "output_type": "execute_result"
    }
   ],
   "source": [
    "pd.set_option('display.float_format', '{:.2f}'.format)\n",
    "\n",
    "movies.describe()\n",
    "\n",
    "\n"
   ]
  },
  {
   "cell_type": "code",
   "execution_count": 44,
   "metadata": {},
   "outputs": [
    {
     "name": "stdout",
     "output_type": "stream",
     "text": [
      "The mean user score is 6.6332681621732865\n",
      "The median user score is 6.7\n",
      "The minimum user score is 2.2\n",
      "The maximum user score is 8.7\n"
     ]
    }
   ],
   "source": [
    "print(f'The mean user score is {movies[\"User Score\"].mean()}')\n",
    "print(f'The median user score is {movies[\"User Score\"].median()}')\n",
    "print(f'The minimum user score is {movies[\"User Score\"].min()}')\n",
    "print(f'The maximum user score is {movies[\"User Score\"].max()}')"
   ]
  },
  {
   "cell_type": "markdown",
   "metadata": {},
   "source": [
    "<h3>Data Visualization:</h3>\n",
    "\n",
    "<h4>Plot of the languages of movies</h4>"
   ]
  },
  {
   "cell_type": "code",
   "execution_count": 45,
   "metadata": {},
   "outputs": [
    {
     "data": {
      "text/plain": [
       "<Axes: xlabel='Language'>"
      ]
     },
     "execution_count": 45,
     "metadata": {},
     "output_type": "execute_result"
    },
    {
     "data": {
      "image/png": "[encoded data removed]",
      "text/plain": [
       "<Figure size 640x480 with 1 Axes>"
      ]
     },
     "metadata": {},
     "output_type": "display_data"
    }
   ],
   "source": [
    "movies['Language'].value_counts().plot(kind='bar', rot=90)"
   ]
  },
  {
   "cell_type": "markdown",
   "metadata": {},
   "source": [
    "<h4>Is there any correlation between the release year of movies and the scores?"
   ]
  },
  {
   "cell_type": "code",
   "execution_count": 46,
   "metadata": {},
   "outputs": [
    {
     "data": {
      "image/png": "[encoded data removed]",
      "text/plain": [
       "<Figure size 1000x600 with 1 Axes>"
      ]
     },
     "metadata": {},
     "output_type": "display_data"
    }
   ],
   "source": [
    "plt.figure(figsize=(10, 6))\n",
    "plt.scatter(movies['Release Year'], movies['User Score'], alpha=0.5)\n",
    "plt.title('Relationship between Release Year and User Score')\n",
    "plt.xlabel('Release Year')\n",
    "plt.ylabel('User Score')\n",
    "plt.grid(True)\n",
    "plt.show()\n",
    "\n",
    "\n"
   ]
  },
  {
   "cell_type": "markdown",
   "metadata": {},
   "source": [
    "<h4>What is the trend for movie releases per year?</h4>"
   ]
  },
  {
   "cell_type": "code",
   "execution_count": 47,
   "metadata": {},
   "outputs": [
    {
     "data": {
      "image/png": "[encoded data removed]",
      "text/plain": [
       "<Figure size 1000x600 with 1 Axes>"
      ]
     },
     "metadata": {},
     "output_type": "display_data"
    }
   ],
   "source": [
    "#Count the number of movies released each year\n",
    "movies_per_year = movies['Release Year'].value_counts().sort_index()\n",
    "\n",
    "# Create a line graph\n",
    "plt.figure(figsize=(10, 6))\n",
    "plt.plot(movies_per_year.index, movies_per_year.values, marker='o')\n",
    "plt.title('Number of Movies Released Each Year')\n",
    "plt.xlabel('Release Year')\n",
    "plt.ylabel('Number of Movies')\n",
    "plt.grid(True)\n",
    "plt.show()"
   ]
  },
  {
   "cell_type": "markdown",
   "metadata": {},
   "source": [
    "<h1>5. Analysis and Insights:</h1>\n",
    "\n",
    "<h3>State your findings in a markdown cell</h3>\n",
    "\n",
    "I was able to address the main project question which was - Can I use this dataset to find movies to watch by specifying a minimum rating, release year, etc?\n",
    "I was able to use the Dataset with Python, Pandas, and matplotlib to sole this problem.\n",
    "I also decided to use a scatter plot to show the relationship between Release Year and user score in order to see if movies from a particular decade tended to score better or worse.\n",
    "\n",
    "<h3>Support your findings in a markdown cell</h3>\n",
    "\n",
    "- **Trend Over Time**: There does not appear to be a significant trend in user scores over the years. The scores seem to be relatively stable, with no clear upward or downward trend.\n",
    "- **Clusters**: There are some clusters of high scores in certain years, indicating periods when particularly popular or well-received movies were released.\n",
    "- **Outliers**: There are a few outliers with exceptionally high or low scores compared to others released in the same year. These outliers might represent movies that were either very well-received or poorly received by users.\n",
    "- **Density**: The density of points varies across different years. Some years have more movies released, indicating periods of higher movie production.\n",
    "\n"
   ]
  },
  {
   "cell_type": "markdown",
   "metadata": {},
   "source": [
    "<h1>6. Conclusion and recommendations:</h1>\n",
    "\n",
    "<h3>Summarize your findings</h3>\n",
    "\n",
    "This dataset is very useful for sorting through movies based on different criteria.\n",
    "I was not able to show that movies from a particular time period tended to score better or worse than other periods. I did see that the amount of movies produced seems to go up over time, with the peak period being the 2010s, with fewer movies being released every year since 2021.\n",
    "\n",
    "<h3>Recommendations</h3>\n",
    "\n",
    "Based on findings, dataset can be improved for sorting through movies based on additional criteria by adding more relevant columns such as Critics' Score and a single column for runtime."
   ]
  }
 ],
 "metadata": {
  "kernelspec": {
   "display_name": "Python 3",
   "language": "python",
   "name": "python3"
  },
  "language_info": {
   "codemirror_mode": {
    "name": "ipython",
    "version": 3
   },
   "file_extension": ".py",
   "mimetype": "text/x-python",
   "name": "python",
   "nbconvert_exporter": "python",
   "pygments_lexer": "ipython3",
   "version": "3.13.0"
  }
 },
 "nbformat": 4,
 "nbformat_minor": 2
}
