{
 "cells": [
  {
   "cell_type": "code",
   "execution_count": 1,
   "metadata": {},
   "outputs": [
    {
     "name": "stdout",
     "output_type": "stream",
     "text": [
      "Hello World\n"
     ]
    }
   ],
   "source": [
    "print(\"Hello World\")"
   ]
  },
  {
   "cell_type": "code",
   "execution_count": 2,
   "metadata": {},
   "outputs": [],
   "source": [
    "import pandas as pd\n",
    "\n",
    "import matplotlib as plt"
   ]
  },
  {
   "cell_type": "code",
   "execution_count": 4,
   "metadata": {},
   "outputs": [],
   "source": [
    "movies = pd.read_csv(\"Movies.csv\")"
   ]
  },
  {
   "cell_type": "code",
   "execution_count": 6,
   "metadata": {},
   "outputs": [
    {
     "name": "stdout",
     "output_type": "stream",
     "text": [
      "        id                       title  \\\n",
      "0        1    The Shawshank Redemption   \n",
      "1        2               The Godfather   \n",
      "2        3       The Godfather Part II   \n",
      "3        4            Schindler's List   \n",
      "4        5                12 Angry Men   \n",
      "...    ...                         ...   \n",
      "9713  9714           Alone in the Dark   \n",
      "9714  9715              Disaster Movie   \n",
      "9715  9716           House of the Dead   \n",
      "9716  9717        Dragonball Evolution   \n",
      "9717  9718  Birdemic: Shock and Terror   \n",
      "\n",
      "                                                 genres language  user_score  \\\n",
      "0                                          Drama, Crime       en         8.7   \n",
      "1                                          Drama, Crime       en         8.7   \n",
      "2                                          Drama, Crime       en         8.6   \n",
      "3                                   Drama, History, War       en         8.6   \n",
      "4                                                 Drama       en         8.5   \n",
      "...                                                 ...      ...         ...   \n",
      "9713                            Action, Fantasy, Horror       en         3.3   \n",
      "9714                                             Comedy       en         3.2   \n",
      "9715                           Horror, Action, Thriller       en         3.1   \n",
      "9716  Action, Adventure, Fantasy, Science Fiction, T...       en         2.9   \n",
      "9717                          Romance, Horror, Thriller       en         2.2   \n",
      "\n",
      "      runtime_hour  runtime_min release_date  vote_count  \n",
      "0                2           22   1994-09-23       27070  \n",
      "1                2           55   1972-03-14       20563  \n",
      "2                3           22   1974-12-20       12403  \n",
      "3                3           15   1993-12-15       15810  \n",
      "4                1           37   1957-04-10        8611  \n",
      "...            ...          ...          ...         ...  \n",
      "9713             1           38   2005-01-28         602  \n",
      "9714             1           27   2008-08-29        1021  \n",
      "9715             1           30   2003-04-11         384  \n",
      "9716             1           25   2009-03-12        2028  \n",
      "9717             1           33   2010-02-27         334  \n",
      "\n",
      "[9718 rows x 9 columns]\n"
     ]
    }
   ],
   "source": [
    "print(movies)"
   ]
  },
  {
   "cell_type": "code",
   "execution_count": 5,
   "metadata": {},
   "outputs": [
    {
     "data": {
      "text/html": [
       "<div>\n",
       "<style scoped>\n",
       "    .dataframe tbody tr th:only-of-type {\n",
       "        vertical-align: middle;\n",
       "    }\n",
       "\n",
       "    .dataframe tbody tr th {\n",
       "        vertical-align: top;\n",
       "    }\n",
       "\n",
       "    .dataframe thead th {\n",
       "        text-align: right;\n",
       "    }\n",
       "</style>\n",
       "<table border=\"1\" class=\"dataframe\">\n",
       "  <thead>\n",
       "    <tr style=\"text-align: right;\">\n",
       "      <th></th>\n",
       "      <th>id</th>\n",
       "      <th>title</th>\n",
       "      <th>genres</th>\n",
       "      <th>language</th>\n",
       "      <th>user_score</th>\n",
       "      <th>runtime_hour</th>\n",
       "      <th>runtime_min</th>\n",
       "      <th>release_date</th>\n",
       "      <th>vote_count</th>\n",
       "    </tr>\n",
       "  </thead>\n",
       "  <tbody>\n",
       "    <tr>\n",
       "      <th>0</th>\n",
       "      <td>1</td>\n",
       "      <td>The Shawshank Redemption</td>\n",
       "      <td>Drama, Crime</td>\n",
       "      <td>en</td>\n",
       "      <td>8.7</td>\n",
       "      <td>2</td>\n",
       "      <td>22</td>\n",
       "      <td>1994-09-23</td>\n",
       "      <td>27070</td>\n",
       "    </tr>\n",
       "    <tr>\n",
       "      <th>1</th>\n",
       "      <td>2</td>\n",
       "      <td>The Godfather</td>\n",
       "      <td>Drama, Crime</td>\n",
       "      <td>en</td>\n",
       "      <td>8.7</td>\n",
       "      <td>2</td>\n",
       "      <td>55</td>\n",
       "      <td>1972-03-14</td>\n",
       "      <td>20563</td>\n",
       "    </tr>\n",
       "    <tr>\n",
       "      <th>2</th>\n",
       "      <td>3</td>\n",
       "      <td>The Godfather Part II</td>\n",
       "      <td>Drama, Crime</td>\n",
       "      <td>en</td>\n",
       "      <td>8.6</td>\n",
       "      <td>3</td>\n",
       "      <td>22</td>\n",
       "      <td>1974-12-20</td>\n",
       "      <td>12403</td>\n",
       "    </tr>\n",
       "    <tr>\n",
       "      <th>3</th>\n",
       "      <td>4</td>\n",
       "      <td>Schindler's List</td>\n",
       "      <td>Drama, History, War</td>\n",
       "      <td>en</td>\n",
       "      <td>8.6</td>\n",
       "      <td>3</td>\n",
       "      <td>15</td>\n",
       "      <td>1993-12-15</td>\n",
       "      <td>15810</td>\n",
       "    </tr>\n",
       "    <tr>\n",
       "      <th>4</th>\n",
       "      <td>5</td>\n",
       "      <td>12 Angry Men</td>\n",
       "      <td>Drama</td>\n",
       "      <td>en</td>\n",
       "      <td>8.5</td>\n",
       "      <td>1</td>\n",
       "      <td>37</td>\n",
       "      <td>1957-04-10</td>\n",
       "      <td>8611</td>\n",
       "    </tr>\n",
       "  </tbody>\n",
       "</table>\n",
       "</div>"
      ],
      "text/plain": [
       "   id                     title               genres language  user_score  \\\n",
       "0   1  The Shawshank Redemption         Drama, Crime       en         8.7   \n",
       "1   2             The Godfather         Drama, Crime       en         8.7   \n",
       "2   3     The Godfather Part II         Drama, Crime       en         8.6   \n",
       "3   4          Schindler's List  Drama, History, War       en         8.6   \n",
       "4   5              12 Angry Men                Drama       en         8.5   \n",
       "\n",
       "   runtime_hour  runtime_min release_date  vote_count  \n",
       "0             2           22   1994-09-23       27070  \n",
       "1             2           55   1972-03-14       20563  \n",
       "2             3           22   1974-12-20       12403  \n",
       "3             3           15   1993-12-15       15810  \n",
       "4             1           37   1957-04-10        8611  "
      ]
     },
     "execution_count": 5,
     "metadata": {},
     "output_type": "execute_result"
    }
   ],
   "source": [
    "movies.head()"
   ]
  },
  {
   "cell_type": "code",
   "execution_count": 7,
   "metadata": {},
   "outputs": [
    {
     "data": {
      "text/html": [
       "<div>\n",
       "<style scoped>\n",
       "    .dataframe tbody tr th:only-of-type {\n",
       "        vertical-align: middle;\n",
       "    }\n",
       "\n",
       "    .dataframe tbody tr th {\n",
       "        vertical-align: top;\n",
       "    }\n",
       "\n",
       "    .dataframe thead th {\n",
       "        text-align: right;\n",
       "    }\n",
       "</style>\n",
       "<table border=\"1\" class=\"dataframe\">\n",
       "  <thead>\n",
       "    <tr style=\"text-align: right;\">\n",
       "      <th></th>\n",
       "      <th>id</th>\n",
       "      <th>title</th>\n",
       "      <th>genres</th>\n",
       "      <th>language</th>\n",
       "      <th>user_score</th>\n",
       "      <th>runtime_hour</th>\n",
       "      <th>runtime_min</th>\n",
       "      <th>release_date</th>\n",
       "      <th>vote_count</th>\n",
       "    </tr>\n",
       "  </thead>\n",
       "  <tbody>\n",
       "    <tr>\n",
       "      <th>9713</th>\n",
       "      <td>9714</td>\n",
       "      <td>Alone in the Dark</td>\n",
       "      <td>Action, Fantasy, Horror</td>\n",
       "      <td>en</td>\n",
       "      <td>3.3</td>\n",
       "      <td>1</td>\n",
       "      <td>38</td>\n",
       "      <td>2005-01-28</td>\n",
       "      <td>602</td>\n",
       "    </tr>\n",
       "    <tr>\n",
       "      <th>9714</th>\n",
       "      <td>9715</td>\n",
       "      <td>Disaster Movie</td>\n",
       "      <td>Comedy</td>\n",
       "      <td>en</td>\n",
       "      <td>3.2</td>\n",
       "      <td>1</td>\n",
       "      <td>27</td>\n",
       "      <td>2008-08-29</td>\n",
       "      <td>1021</td>\n",
       "    </tr>\n",
       "    <tr>\n",
       "      <th>9715</th>\n",
       "      <td>9716</td>\n",
       "      <td>House of the Dead</td>\n",
       "      <td>Horror, Action, Thriller</td>\n",
       "      <td>en</td>\n",
       "      <td>3.1</td>\n",
       "      <td>1</td>\n",
       "      <td>30</td>\n",
       "      <td>2003-04-11</td>\n",
       "      <td>384</td>\n",
       "    </tr>\n",
       "    <tr>\n",
       "      <th>9716</th>\n",
       "      <td>9717</td>\n",
       "      <td>Dragonball Evolution</td>\n",
       "      <td>Action, Adventure, Fantasy, Science Fiction, T...</td>\n",
       "      <td>en</td>\n",
       "      <td>2.9</td>\n",
       "      <td>1</td>\n",
       "      <td>25</td>\n",
       "      <td>2009-03-12</td>\n",
       "      <td>2028</td>\n",
       "    </tr>\n",
       "    <tr>\n",
       "      <th>9717</th>\n",
       "      <td>9718</td>\n",
       "      <td>Birdemic: Shock and Terror</td>\n",
       "      <td>Romance, Horror, Thriller</td>\n",
       "      <td>en</td>\n",
       "      <td>2.2</td>\n",
       "      <td>1</td>\n",
       "      <td>33</td>\n",
       "      <td>2010-02-27</td>\n",
       "      <td>334</td>\n",
       "    </tr>\n",
       "  </tbody>\n",
       "</table>\n",
       "</div>"
      ],
      "text/plain": [
       "        id                       title  \\\n",
       "9713  9714           Alone in the Dark   \n",
       "9714  9715              Disaster Movie   \n",
       "9715  9716           House of the Dead   \n",
       "9716  9717        Dragonball Evolution   \n",
       "9717  9718  Birdemic: Shock and Terror   \n",
       "\n",
       "                                                 genres language  user_score  \\\n",
       "9713                            Action, Fantasy, Horror       en         3.3   \n",
       "9714                                             Comedy       en         3.2   \n",
       "9715                           Horror, Action, Thriller       en         3.1   \n",
       "9716  Action, Adventure, Fantasy, Science Fiction, T...       en         2.9   \n",
       "9717                          Romance, Horror, Thriller       en         2.2   \n",
       "\n",
       "      runtime_hour  runtime_min release_date  vote_count  \n",
       "9713             1           38   2005-01-28         602  \n",
       "9714             1           27   2008-08-29        1021  \n",
       "9715             1           30   2003-04-11         384  \n",
       "9716             1           25   2009-03-12        2028  \n",
       "9717             1           33   2010-02-27         334  "
      ]
     },
     "execution_count": 7,
     "metadata": {},
     "output_type": "execute_result"
    }
   ],
   "source": [
    "movies.tail()"
   ]
  },
  {
   "cell_type": "code",
   "execution_count": 9,
   "metadata": {},
   "outputs": [
    {
     "data": {
      "text/plain": [
       "(9718, 9)"
      ]
     },
     "execution_count": 9,
     "metadata": {},
     "output_type": "execute_result"
    }
   ],
   "source": [
    "movies.shape"
   ]
  },
  {
   "cell_type": "code",
   "execution_count": 11,
   "metadata": {},
   "outputs": [
    {
     "name": "stdout",
     "output_type": "stream",
     "text": [
      "<class 'pandas.core.frame.DataFrame'>\n",
      "RangeIndex: 9718 entries, 0 to 9717\n",
      "Data columns (total 9 columns):\n",
      " #   Column        Non-Null Count  Dtype  \n",
      "---  ------        --------------  -----  \n",
      " 0   id            9718 non-null   int64  \n",
      " 1   title         9718 non-null   object \n",
      " 2   genres        9718 non-null   object \n",
      " 3   language      9718 non-null   object \n",
      " 4   user_score    9718 non-null   float64\n",
      " 5   runtime_hour  9718 non-null   int64  \n",
      " 6   runtime_min   9718 non-null   int64  \n",
      " 7   release_date  9718 non-null   object \n",
      " 8   vote_count    9718 non-null   int64  \n",
      "dtypes: float64(1), int64(4), object(4)\n",
      "memory usage: 683.4+ KB\n"
     ]
    }
   ],
   "source": [
    "movies.info()"
   ]
  },
  {
   "cell_type": "code",
   "execution_count": 13,
   "metadata": {},
   "outputs": [
    {
     "name": "stdout",
     "output_type": "stream",
     "text": [
      "False\n"
     ]
    }
   ],
   "source": [
    "print(movies.isnull().any().any())"
   ]
  },
  {
   "cell_type": "code",
   "execution_count": 14,
   "metadata": {},
   "outputs": [
    {
     "data": {
      "text/plain": [
       "Index(['id', 'title', 'genres', 'language', 'user_score', 'runtime_hour',\n",
       "       'runtime_min', 'release_date', 'vote_count'],\n",
       "      dtype='object')"
      ]
     },
     "execution_count": 14,
     "metadata": {},
     "output_type": "execute_result"
    }
   ],
   "source": [
    "movies.columns"
   ]
  },
  {
   "cell_type": "code",
   "execution_count": 21,
   "metadata": {},
   "outputs": [
    {
     "data": {
      "text/plain": [
       "language\n",
       "en    7695\n",
       "fr     630\n",
       "it     349\n",
       "ja     271\n",
       "es     179\n",
       "de      90\n",
       "ko      84\n",
       "zh      63\n",
       "cn      52\n",
       "ru      44\n",
       "sv      36\n",
       "da      31\n",
       "pt      30\n",
       "hi      28\n",
       "no      22\n",
       "pl      18\n",
       "tr      11\n",
       "th      11\n",
       "fa      10\n",
       "nl       9\n",
       "fi       8\n",
       "hu       6\n",
       "id       5\n",
       "sr       4\n",
       "te       4\n",
       "uk       3\n",
       "el       3\n",
       "cs       3\n",
       "ar       2\n",
       "is       2\n",
       "sh       1\n",
       "bn       1\n",
       "et       1\n",
       "bs       1\n",
       "gl       1\n",
       "ga       1\n",
       "ro       1\n",
       "ml       1\n",
       "la       1\n",
       "tn       1\n",
       "he       1\n",
       "km       1\n",
       "eu       1\n",
       "su       1\n",
       "lt       1\n",
       "Name: count, dtype: int64"
      ]
     },
     "execution_count": 21,
     "metadata": {},
     "output_type": "execute_result"
    }
   ],
   "source": [
    "movies['language'].value_counts()"
   ]
  },
  {
   "cell_type": "markdown",
   "metadata": {},
   "source": [
    "Provide descriptive stats:"
   ]
  },
  {
   "cell_type": "code",
   "execution_count": 17,
   "metadata": {},
   "outputs": [
    {
     "data": {
      "text/html": [
       "<div>\n",
       "<style scoped>\n",
       "    .dataframe tbody tr th:only-of-type {\n",
       "        vertical-align: middle;\n",
       "    }\n",
       "\n",
       "    .dataframe tbody tr th {\n",
       "        vertical-align: top;\n",
       "    }\n",
       "\n",
       "    .dataframe thead th {\n",
       "        text-align: right;\n",
       "    }\n",
       "</style>\n",
       "<table border=\"1\" class=\"dataframe\">\n",
       "  <thead>\n",
       "    <tr style=\"text-align: right;\">\n",
       "      <th></th>\n",
       "      <th>id</th>\n",
       "      <th>user_score</th>\n",
       "      <th>runtime_hour</th>\n",
       "      <th>runtime_min</th>\n",
       "      <th>vote_count</th>\n",
       "    </tr>\n",
       "  </thead>\n",
       "  <tbody>\n",
       "    <tr>\n",
       "      <th>count</th>\n",
       "      <td>9718.00</td>\n",
       "      <td>9718.00</td>\n",
       "      <td>9718.00</td>\n",
       "      <td>9718.00</td>\n",
       "      <td>9718.00</td>\n",
       "    </tr>\n",
       "    <tr>\n",
       "      <th>mean</th>\n",
       "      <td>4859.50</td>\n",
       "      <td>6.63</td>\n",
       "      <td>1.20</td>\n",
       "      <td>33.75</td>\n",
       "      <td>1982.47</td>\n",
       "    </tr>\n",
       "    <tr>\n",
       "      <th>std</th>\n",
       "      <td>2805.49</td>\n",
       "      <td>0.78</td>\n",
       "      <td>0.46</td>\n",
       "      <td>15.68</td>\n",
       "      <td>3135.11</td>\n",
       "    </tr>\n",
       "    <tr>\n",
       "      <th>min</th>\n",
       "      <td>1.00</td>\n",
       "      <td>2.20</td>\n",
       "      <td>0.00</td>\n",
       "      <td>0.00</td>\n",
       "      <td>300.00</td>\n",
       "    </tr>\n",
       "    <tr>\n",
       "      <th>25%</th>\n",
       "      <td>2430.25</td>\n",
       "      <td>6.10</td>\n",
       "      <td>1.00</td>\n",
       "      <td>25.00</td>\n",
       "      <td>468.00</td>\n",
       "    </tr>\n",
       "    <tr>\n",
       "      <th>50%</th>\n",
       "      <td>4859.50</td>\n",
       "      <td>6.70</td>\n",
       "      <td>1.00</td>\n",
       "      <td>36.00</td>\n",
       "      <td>841.50</td>\n",
       "    </tr>\n",
       "    <tr>\n",
       "      <th>75%</th>\n",
       "      <td>7288.75</td>\n",
       "      <td>7.20</td>\n",
       "      <td>1.00</td>\n",
       "      <td>46.00</td>\n",
       "      <td>1971.00</td>\n",
       "    </tr>\n",
       "    <tr>\n",
       "      <th>max</th>\n",
       "      <td>9718.00</td>\n",
       "      <td>8.70</td>\n",
       "      <td>6.00</td>\n",
       "      <td>59.00</td>\n",
       "      <td>36495.00</td>\n",
       "    </tr>\n",
       "  </tbody>\n",
       "</table>\n",
       "</div>"
      ],
      "text/plain": [
       "           id  user_score  runtime_hour  runtime_min  vote_count\n",
       "count 9718.00     9718.00       9718.00      9718.00     9718.00\n",
       "mean  4859.50        6.63          1.20        33.75     1982.47\n",
       "std   2805.49        0.78          0.46        15.68     3135.11\n",
       "min      1.00        2.20          0.00         0.00      300.00\n",
       "25%   2430.25        6.10          1.00        25.00      468.00\n",
       "50%   4859.50        6.70          1.00        36.00      841.50\n",
       "75%   7288.75        7.20          1.00        46.00     1971.00\n",
       "max   9718.00        8.70          6.00        59.00    36495.00"
      ]
     },
     "execution_count": 17,
     "metadata": {},
     "output_type": "execute_result"
    }
   ],
   "source": [
    "pd.set_option('display.float_format', '{:.2f}'.format)\n",
    "\n",
    "movies.describe()"
   ]
  },
  {
   "cell_type": "markdown",
   "metadata": {},
   "source": [
    "Plot of the languages of movies:"
   ]
  },
  {
   "cell_type": "code",
   "execution_count": 20,
   "metadata": {},
   "outputs": [
    {
     "data": {
      "text/plain": [
       "<Axes: xlabel='language'>"
      ]
     },
     "execution_count": 20,
     "metadata": {},
     "output_type": "execute_result"
    },
    {
     "data": {
      "image/png": "[encoded data removed]",
      "text/plain": [
       "<Figure size 640x480 with 1 Axes>"
      ]
     },
     "metadata": {},
     "output_type": "display_data"
    }
   ],
   "source": [
    "movies['language'].value_counts().plot(kind='bar', rot=90)"
   ]
  }
 ],
 "metadata": {
  "kernelspec": {
   "display_name": "Python 3",
   "language": "python",
   "name": "python3"
  },
  "language_info": {
   "codemirror_mode": {
    "name": "ipython",
    "version": 3
   },
   "file_extension": ".py",
   "mimetype": "text/x-python",
   "name": "python",
   "nbconvert_exporter": "python",
   "pygments_lexer": "ipython3",
   "version": "3.13.0"
  }
 },
 "nbformat": 4,
 "nbformat_minor": 2
}
